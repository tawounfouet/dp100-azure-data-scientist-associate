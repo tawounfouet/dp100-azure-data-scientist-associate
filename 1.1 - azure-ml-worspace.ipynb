{
 "cells": [
  {
   "attachments": {},
   "cell_type": "markdown",
   "metadata": {},
   "source": [
    "# Exploration du kit de développement logiciel (SDK) Python\n",
    "\n",
    "Les scientifiques des données peuvent utiliser Azure Machine Learning pour effectuer l’apprentissage des modèles Machine Learning, les suivre et les gérer. En tant que scientifique des données, vous travaillerez principalement avec les ressources de l’espace de travail Azure Machine Learning pour vos charges de travail Machine Learning.\n",
    "\n",
    "Comme la plupart des scientifiques des données connaissent Python, Azure Machine Learning propose un kit de développement logiciel (SDK) permettant d’interagir avec l’espace de travail à l’aide de Python.\n",
    "\n",
    "Le kit SDK Python pour Azure Machine Learning constitue un outil idéal pour les scientifiques des données. Il peut être utilisé dans n’importe quel environnement Python. Que vous travailliez habituellement avec des notebooks Jupyter ou avec Visual Studio Code, vous pouvez installer le kit SDK Python et vous connecter à l’espace de travail.\n",
    "\n",
    "## Installer le Kit de développement logiciel (SDK) Python\n",
    "La version 3.7 (ou une version ultérieure) de Python est nécessaire pour installer le kit SDK Python dans un environnement Python. Vous pouvez installer le package avec `pip` ou `conda`.\n",
    "\n",
    "```bash :\n",
    "pip install azureml-sdk # ancienne version\n",
    "!pip install azure-ai-ml # nouvelle version\n",
    "```"
   ]
  },
  {
   "cell_type": "code",
   "execution_count": null,
   "metadata": {},
   "outputs": [],
   "source": [
    "!pip install azure-ai-ml"
   ]
  },
  {
   "attachments": {},
   "cell_type": "markdown",
   "metadata": {},
   "source": [
    "## Se connecter à l’espace de travail\n",
    "Une fois le kit SDK Python installé, vous devez vous connecter à l’espace de travail. En vous connectant, vous authentifiez votre environnement de sorte qu’il interagisse avec l’espace de travail pour créer et gérer des ressources et composants.\n",
    "\n",
    "Les valeurs de trois paramètres sont nécessaires pour s’authentifier :\n",
    "\n",
    "- **subscription_id** : votre ID d’abonnement.\n",
    "- **resource_group** : le nom de votre groupe de ressources.\n",
    "- **workspace_name** : le nom de votre espace de travail.\n",
    "Ensuite, vous pouvez définir l’authentification à l’aide du code suivant :\n",
    "\n",
    "az config set core.allow_broker=true\n",
    "az account clear\n",
    "az login"
   ]
  },
  {
   "cell_type": "code",
   "execution_count": 4,
   "metadata": {},
   "outputs": [
    {
     "name": "stdout",
     "output_type": "stream",
     "text": [
      "\u001b[93mA web browser has been opened at https://login.microsoftonline.com/organizations/oauth2/v2.0/authorize. Please continue the login in the web browser. If no web browser is available or if the web browser fails to open, use device code flow with `az login --use-device-code`.\u001b[0m\n",
      "[\n",
      "  {\n",
      "    \"cloudName\": \"AzureCloud\",\n",
      "    \"homeTenantId\": \"80314fd1-0e2a-4bd6-8a54-9a6c24ac2b81\",\n",
      "    \"id\": \"721e8e8b-4456-49f5-a29c-c7c5a9b2e71e\",\n",
      "    \"isDefault\": true,\n",
      "    \"managedByTenants\": [],\n",
      "    \"name\": \"Microsoft Azure Sponsorship\",\n",
      "    \"state\": \"Enabled\",\n",
      "    \"tenantId\": \"80314fd1-0e2a-4bd6-8a54-9a6c24ac2b81\",\n",
      "    \"user\": {\n",
      "      \"name\": \"tawounfouet@diversitealternative.onmicrosoft.com\",\n",
      "      \"type\": \"user\"\n",
      "    }\n",
      "  }\n",
      "]\n"
     ]
    }
   ],
   "source": [
    "!az login"
   ]
  },
  {
   "cell_type": "code",
   "execution_count": 8,
   "metadata": {},
   "outputs": [],
   "source": [
    "from azure.ai.ml import MLClient\n",
    "from azure.identity import DefaultAzureCredential\n",
    "\n",
    "subscription_id = '721e8e8b-4456-49f5-a29c-c7c5a9b2e71e'\n",
    "resource_group = 'rg-dp100-labs\"'\n",
    "workspace_name = '\"ws-dp100-labs'\n",
    "\n",
    "ml_client = MLClient(\n",
    "    DefaultAzureCredential(), subscription_id, resource_group, workspace_name\n",
    ")"
   ]
  },
  {
   "attachments": {},
   "cell_type": "markdown",
   "metadata": {},
   "source": [
    "Après avoir défini l’authentification, vous devez appeler MLClient pour que l’environnement se connecte à l’espace de travail. Vous appelez MLClient chaque fois que vous souhaitez créer ou mettre à jour une ressource ou un composant dans l’espace de travail.\n",
    "\n",
    "Par exemple, vous vous connectez à l’espace de travail lorsque vous créez un travail pour effectuer l’apprentissage d’un modèle :"
   ]
  },
  {
   "cell_type": "code",
   "execution_count": null,
   "metadata": {},
   "outputs": [],
   "source": [
    "from azure.ai.ml import command\n",
    "\n",
    "# configure job\n",
    "job = command(\n",
    "    code=\"./src\",\n",
    "    command=\"python train.py\",\n",
    "    environment=\"AzureML-sklearn-0.24-ubuntu18.04-py37-cpu@latest\",\n",
    "    compute=\"aml-cluster\",\n",
    "    experiment_name=\"train-model\"\n",
    ")\n",
    "\n",
    "# connect to workspace and submit job\n",
    "returned_job = ml_client.create_or_update(job)"
   ]
  },
  {
   "cell_type": "code",
   "execution_count": null,
   "metadata": {},
   "outputs": [],
   "source": []
  },
  {
   "cell_type": "code",
   "execution_count": null,
   "metadata": {},
   "outputs": [],
   "source": []
  },
  {
   "cell_type": "code",
   "execution_count": null,
   "metadata": {},
   "outputs": [],
   "source": [
    "from azure.ai.ml.entities import Workspace\n",
    "\n",
    "workspace_name = \"mlw-example\"\n",
    "\n",
    "ws_basic = Workspace(\n",
    "    name=workspace_name,\n",
    "    location=\"eastus\",\n",
    "    display_name=\"Basic workspace-example\",\n",
    "    description=\"This example shows how to create a basic workspace\",\n",
    ")\n",
    "ml_client.workspaces.begin_create(ws_basic)"
   ]
  },
  {
   "cell_type": "code",
   "execution_count": 12,
   "metadata": {},
   "outputs": [],
   "source": [
    "#ml_client.workspaces.begin_create(ws_basic)"
   ]
  },
  {
   "cell_type": "code",
   "execution_count": 2,
   "metadata": {},
   "outputs": [],
   "source": [
    "from azure.ai.ml.entities import Workspace\n",
    "\n",
    "workspace_name = \"mlw-example\"\n",
    "\n",
    "ws_basic = Workspace(\n",
    "    name=workspace_name,\n",
    "    location=\"eastus\",\n",
    "    display_name=\"Basic workspace-example\",\n",
    "    description=\"This example shows how to create a basic workspace\",\n",
    ")"
   ]
  }
 ],
 "metadata": {
  "kernelspec": {
   "display_name": "base",
   "language": "python",
   "name": "python3"
  },
  "language_info": {
   "codemirror_mode": {
    "name": "ipython",
    "version": 3
   },
   "file_extension": ".py",
   "mimetype": "text/x-python",
   "name": "python",
   "nbconvert_exporter": "python",
   "pygments_lexer": "ipython3",
   "version": "3.10.9"
  },
  "orig_nbformat": 4
 },
 "nbformat": 4,
 "nbformat_minor": 2
}
