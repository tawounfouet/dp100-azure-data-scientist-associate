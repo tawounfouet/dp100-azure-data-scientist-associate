{
 "cells": [
  {
   "cell_type": "markdown",
   "metadata": {},
   "source": [
    "## Utiliser un travail de balayage pour le réglage des hyperparamètres\n"
   ]
  },
  {
   "attachments": {},
   "cell_type": "markdown",
   "metadata": {},
   "source": [
    "### Créer un script d’apprentissage pour le réglages des hyperparamètres\n",
    "Pour exécuter un travail de balayage, vous devez créer un script d’apprentissage comme pour tout autre travail d’apprentissage. Toutefois, votre script doit :\n",
    "\n",
    "Inclure un argument pour chaque hyperparamètre que vous souhaitez faire varier.\n",
    "Consigner la mesure de performance cible avec MLflow. Une métrique journalisée permet au travail de balayage d’évaluer les performances des essais initiés et d’identifier celui qui produit le modèle le plus performant\n",
    "\n",
    "Par exemple, l’exemple de script suivant forme un modèle de régression logistique à l’aide d’un argument --regularization pour définir l’hyperparamètre de taux de régularisation et enregistre la mesure de précision avec le nom Accuracy :\n",
    "\n",
    "```python\n",
    "import argparse\n",
    "import pandas as pd\n",
    "import numpy as np\n",
    "from sklearn.model_selection import train_test_split\n",
    "from sklearn.linear_model import LogisticRegression\n",
    "import mlflow\n",
    "\n",
    "# get regularization hyperparameter\n",
    "parser = argparse.ArgumentParser()\n",
    "parser.add_argument('--regularization', type=float, dest='reg_rate', default=0.01)\n",
    "args = parser.parse_args()\n",
    "reg = args.reg_rate\n",
    "\n",
    "# load the training dataset\n",
    "data = pd.read_csv(\"data.csv\")\n",
    "\n",
    "# separate features and labels, and split for training/validatiom\n",
    "X = data[['feature1','feature2','feature3','feature4']].values\n",
    "y = data['label'].values\n",
    "X_train, X_test, y_train, y_test = train_test_split(X, y, test_size=0.30)\n",
    "\n",
    "# train a logistic regression model with the reg hyperparameter\n",
    "model = LogisticRegression(C=1/reg, solver=\"liblinear\").fit(X_train, y_train)\n",
    "\n",
    "# calculate and log accuracy\n",
    "y_hat = model.predict(X_test)\n",
    "acc = np.average(y_hat == y_test)\n",
    "mlflow.log_metric(\"Accuracy\", acc)\n",
    "```\n",
    "\n",
    "\n",
    "### Configurer et exécuter un travail de balayage\n",
    "Pour préparer le travail de balayage, vous devez d’abord créer un travail de commande de base qui spécifie le script à exécuter et définit les paramètres utilisés par le script :\n",
    "\n",
    "```python\n",
    "from azure.ai.ml import command\n",
    "\n",
    "# configure command job as base\n",
    "job = command(\n",
    "    code=\"./src\",\n",
    "    command=\"python train.py --regularization ${{inputs.regularization}}\",\n",
    "    inputs={\n",
    "        \"reg_rate\": 0.01,\n",
    "    },\n",
    "    environment=\"AzureML-sklearn-0.24-ubuntu18.04-py37-cpu@latest\",\n",
    "    compute=\"aml-cluster\",\n",
    "    )\n",
    "```\n",
    "\n",
    "\n",
    "Vous pouvez ensuite écraser vos paramètres d’entrée par votre espace de recherche :\n",
    "```python\n",
    "from azure.ai.ml.sweep import Choice\n",
    "\n",
    "command_job_for_sweep = job(\n",
    "    reg_rate=Choice(values=[0.01, 0.1, 1]),\n",
    ")\n",
    "```\n"
   ]
  },
  {
   "attachments": {},
   "cell_type": "markdown",
   "metadata": {},
   "source": [
    "Enfin, appelez sweep() sur votre travail de commande pour parcourir votre espace de recherche :"
   ]
  },
  {
   "cell_type": "code",
   "execution_count": null,
   "metadata": {},
   "outputs": [],
   "source": [
    "from azure.ai.ml import MLClient\n",
    "\n",
    "# apply the sweep parameter to obtain the sweep_job\n",
    "sweep_job = command_job_for_sweep.sweep(\n",
    "    compute=\"aml-cluster\",\n",
    "    sampling_algorithm=\"grid\",\n",
    "    primary_metric=\"Accuracy\",\n",
    "    goal=\"Maximize\",\n",
    ")\n",
    "\n",
    "# set the name of the sweep job experiment\n",
    "sweep_job.experiment_name=\"sweep-example\"\n",
    "\n",
    "# define the limits for this sweep\n",
    "sweep_job.set_limits(max_total_trials=4, max_concurrent_trials=2, timeout=7200)\n",
    "\n",
    "# submit the sweep\n",
    "returned_sweep_job = ml_client.create_or_update(sweep_job)\n"
   ]
  }
 ],
 "metadata": {
  "language_info": {
   "name": "python"
  },
  "orig_nbformat": 4
 },
 "nbformat": 4,
 "nbformat_minor": 2
}
