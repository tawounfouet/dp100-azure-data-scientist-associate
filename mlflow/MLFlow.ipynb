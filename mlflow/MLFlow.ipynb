{
 "cells": [
  {
   "cell_type": "markdown",
   "id": "5ad8ab0d",
   "metadata": {},
   "source": [
    "# Effectuer l’apprentissage et le suivi des modèles dans des notebooks\n",
    "\n",
    "En tant que scientifique des données, vous utilisez des notebooks pour effectuer des expériences et l’apprentissage des modèles. Pour regrouper les résultats de l’apprentissage du modèle, vous allez utiliser des expériences. Pour suivre les métriques du modèle avec MLflow lors de l’apprentissage d’un modèle dans un notebook, vous pouvez utiliser les fonctionnalités de journalisation de MLflow.\n",
    "\n"
   ]
  },
  {
   "cell_type": "code",
   "execution_count": 4,
   "id": "cee8d77f",
   "metadata": {},
   "outputs": [],
   "source": [
    "#!pip install mlflow\n",
    "#!pip install azureml-mlflow"
   ]
  },
  {
   "cell_type": "code",
   "execution_count": 6,
   "id": "826be081",
   "metadata": {},
   "outputs": [],
   "source": [
    "import mlflow\n",
    "mlflow.set_tracking_uri = \"azureml://westus.api.azureml.ms/mlflow/v1.0/subscriptions/721e8e8b-4456-49f5-a29c-c7c5a9b2e71e/resourceGroups/rg-azure-ml/providers/Microsoft.MachineLearningServices/workspaces/azure-ml-lab\" "
   ]
  },
  {
   "cell_type": "markdown",
   "id": "49f440c3",
   "metadata": {},
   "source": [
    "### Créer une expérience MLflow\n",
    "Vous pouvez créer une expérience MLflow, ce qui permet de regrouper des exécutions. Si vous ne créez pas d’expérience, MLflow se rapporte à l’expérience par défaut avec le nom Default.\n",
    "\n",
    "Pour créer une expérience, exécutez la commande suivante dans un notebook :"
   ]
  },
  {
   "cell_type": "code",
   "execution_count": 10,
   "id": "38c6d94c",
   "metadata": {},
   "outputs": [
    {
     "data": {
      "text/plain": [
       "<Experiment: artifact_location='file:///Users/awf/Projects/azure/azure-data-scientist-associate/mlflow/mlruns/347582798210917144', creation_time=1685953031660, experiment_id='347582798210917144', last_update_time=1685953031660, lifecycle_stage='active', name='heart-condition-classifier', tags={}>"
      ]
     },
     "execution_count": 10,
     "metadata": {},
     "output_type": "execute_result"
    }
   ],
   "source": [
    "import mlflow\n",
    "\n",
    "mlflow.set_experiment(experiment_name=\"heart-condition-classifier\")"
   ]
  },
  {
   "cell_type": "code",
   "execution_count": 11,
   "id": "29efb940",
   "metadata": {},
   "outputs": [
    {
     "ename": "NameError",
     "evalue": "name 'experiment_name' is not defined",
     "output_type": "error",
     "traceback": [
      "\u001b[0;31m---------------------------------------------------------------------------\u001b[0m",
      "\u001b[0;31mNameError\u001b[0m                                 Traceback (most recent call last)",
      "Cell \u001b[0;32mIn[11], line 1\u001b[0m\n\u001b[0;32m----> 1\u001b[0m mlflow\u001b[38;5;241m.\u001b[39mset_experiment(\u001b[43mexperiment_name\u001b[49m)\n",
      "\u001b[0;31mNameError\u001b[0m: name 'experiment_name' is not defined"
     ]
    }
   ],
   "source": [
    "mlflow.set_experiment(experiment_name)"
   ]
  },
  {
   "cell_type": "code",
   "execution_count": null,
   "id": "fdbcda9f",
   "metadata": {},
   "outputs": [],
   "source": []
  },
  {
   "cell_type": "code",
   "execution_count": null,
   "id": "8e7cbcc9",
   "metadata": {},
   "outputs": [],
   "source": []
  },
  {
   "cell_type": "markdown",
   "id": "992f5c73",
   "metadata": {},
   "source": [
    "### Résultats des journaux avec MLflow\n",
    "Vous êtes maintenant prêt à effectuer l’apprentissage de votre modèle. Pour démarrer une exécution suivie par MLflow, vous allez utiliser start_run(). Pour suivre le modèle, vous pouvez ensuite :\n",
    "\n",
    "#### Activer la journalisation automatique.\n",
    "Utiliser la journalisation personnalisée.\n",
    "Activer la journalisation automatique\n",
    "MLflow prend en charge la journalisation automatique pour les bibliothèques de Machine Learning populaires. Si vous utilisez une bibliothèque prise en charge par la journalisation automatique, MLflow indique à l’infrastructure que vous utilisez de consigner l’ensemble des métriques, paramètres, artefacts et modèles qu’elle considère comme pertinents.\n",
    "\n",
    "Vous pouvez activer la journalisation automatique à l’aide de la méthode autolog de l’infrastructure que vous utilisez. Pour activer la journalisation automatique par exemple pour les modèles XGBoost, vous pouvez utiliser mlflow.xgboost.autolog().\n",
    "\n",
    "`Une cellule de notebook qui effectue l’apprentissage et le suivi d’un modèle de classification à l’aide de la journalisation automatique peut ressembler à l’exemple de code suivant`"
   ]
  },
  {
   "cell_type": "code",
   "execution_count": null,
   "id": "c40e2565",
   "metadata": {},
   "outputs": [],
   "source": [
    "from xgboost import XGBClassifier\n",
    "\n",
    "with mlflow.start_run():\n",
    "    mlflow.xgboost.autolog()\n",
    "\n",
    "    model = XGBClassifier(use_label_encoder=False, eval_metric=\"logloss\")\n",
    "    model.fit(X_train, y_train, eval_set=[(X_test, y_test)], verbose=False)"
   ]
  },
  {
   "cell_type": "markdown",
   "id": "49afd14a",
   "metadata": {},
   "source": [
    "### Utiliser la journalisation personnalisée\n",
    "\n",
    "En outre, vous pouvez enregistrer votre modèle manuellement avec MLflow. La journalisation manuelle des modèles est utile quand vous souhaitez consigner des informations supplémentaires ou personnalisées qui ne le sont pas via la journalisation automatique.\n",
    "\n",
    "Voici les fonctions courantes utilisées avec la journalisation personnalisée :\n",
    "\n",
    "- `mlflow.log_param()` : consigne un paramètre clé-valeur unique. Utilisez cette fonction pour un paramètre d’entrée que vous souhaitez consigner.\n",
    "- `mlflow.log_metric()` : consigne une métrique clé-valeur unique. La valeur doit être un nombre. Utilisez cette fonction pour toute sortie que vous souhaitez stocker avec l’exécution.\n",
    "- `mlflow.log_artifact()` : journalise un fichier. Utilisez cette fonction pour tout tracé que vous souhaitez consigner et enregistrer en tant que fichier image avant.\n",
    "- `mlflow.log_model()` : journalise un modèle. Utilisez cette fonction pour créer un modèle MLflow, qui peut inclure une signature personnalisée, un environnement et des exemples d’entrée.\n"
   ]
  },
  {
   "cell_type": "code",
   "execution_count": null,
   "id": "323512cd",
   "metadata": {},
   "outputs": [],
   "source": [
    "from xgboost import XGBClassifier\n",
    "from sklearn.metrics import accuracy_score\n",
    "\n",
    "with mlflow.start_run():\n",
    "    model = XGBClassifier(use_label_encoder=False, eval_metric=\"logloss\")\n",
    "    model.fit(X_train, y_train, eval_set=[(X_test, y_test)], verbose=False)\n",
    "    y_pred = model.predict(X_test)\n",
    "\n",
    "    accuracy = accuracy_score(y_test, y_pred)\n",
    "    mlflow.log_metric(\"accuracy\", accuracy)"
   ]
  }
 ],
 "metadata": {
  "kernelspec": {
   "display_name": "Python 3 (ipykernel)",
   "language": "python",
   "name": "python3"
  },
  "language_info": {
   "codemirror_mode": {
    "name": "ipython",
    "version": 3
   },
   "file_extension": ".py",
   "mimetype": "text/x-python",
   "name": "python",
   "nbconvert_exporter": "python",
   "pygments_lexer": "ipython3",
   "version": "3.10.9"
  }
 },
 "nbformat": 4,
 "nbformat_minor": 5
}
