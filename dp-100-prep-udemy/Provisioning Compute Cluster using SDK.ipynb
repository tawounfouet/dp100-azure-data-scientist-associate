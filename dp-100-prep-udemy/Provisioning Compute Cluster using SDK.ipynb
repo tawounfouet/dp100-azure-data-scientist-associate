{
 "cells": [
  {
   "cell_type": "markdown",
   "id": "e338454d",
   "metadata": {},
   "source": [
    "# Provisioning Compute Cluster using SDK\n",
    "\n",
    "\n",
    "Scale your compute cluster from a single node to a multi node workload\n",
    "Create a single or multi node compute cluster for your training, batch inferencing or reinforcement learning workloads.\n",
    "\n",
    "Learn more : https://learn.microsoft.com/fr-fr/azure/machine-learning/concept-compute-target \n",
    "\n",
    "\n",
    "Une **cible de calcul** est un environnement ou une ressource de calcul où vous exécutez votre script d’entraînement ou hébergez votre déploiement de service. Cet emplacement peut être votre machine locale ou une ressource de calcul informatique. Les cibles de calcul facilitent la modification de votre environnement de calcul sans modifier votre code.\n",
    "\n",
    "Dans un cycle de vie de développement de modèle type, vous pouvez effectuer les opérations suivantes :\n",
    "\n",
    "- Commencez par développer et expérimenter une petite quantité de données. À ce stade, utilisez votre environnement local, tel qu’un ordinateur local ou une machine virtuelle informatique, comme cible de calcul.\n",
    "- Effectuez un scale-up vers des données plus volumineuses ou effectuez une formation distribuée à l’aide d’une de ces cibles de calcul de formation.\n",
    "- Une fois que votre modèle est prêt, déployez-le sur un environnement d’hébergement web avec l’une de ces cibles de calcul de déploiement.\n",
    "\n",
    "Les ressources de calcul utilisées pour vos cibles de calcul sont associées à un espace de travail. Les cibles de calcul autres que l’ordinateur local sont partagées par les utilisateurs de l’espace de travail.\n"
   ]
  },
  {
   "cell_type": "code",
   "execution_count": 1,
   "id": "2dd15380",
   "metadata": {},
   "outputs": [],
   "source": [
    "# -----------------------------------------------------\n",
    "# Create a compute cluster using AzureML SDK \n",
    "# -----------------------------------------------------"
   ]
  },
  {
   "cell_type": "code",
   "execution_count": 7,
   "id": "67e417d6",
   "metadata": {},
   "outputs": [
    {
     "data": {
      "text/plain": [
       "AmlCompute(workspace=Workspace.create(name='Azureml-SDK-WS01', subscription_id='3dddd7d3-09f0-464e-8095-599d52d06724', resource_group='AzuremL-SDK-RG01'), name=my-cluster-001, id=/subscriptions/3dddd7d3-09f0-464e-8095-599d52d06724/resourceGroups/AzuremL-SDK-RG01/providers/Microsoft.MachineLearningServices/workspaces/Azureml-SDK-WS01/computes/my-cluster-001, type=AmlCompute, provisioning_state=Creating, location=francecentral, tags={})"
      ]
     },
     "execution_count": 7,
     "metadata": {},
     "output_type": "execute_result"
    }
   ],
   "source": [
    "# import the Workplace class\n",
    "from azureml.core import Workspace\n",
    "\n",
    "# Access the workspace from the config.json\n",
    "ws = Workspace.from_config(\"./config\")\n",
    "\n",
    "\n",
    "# Specify the cluster name\n",
    "cluster_name = \"my-cluster-001\"\n",
    "\n",
    "# Provisioning configuration using AmlCompute\n",
    "from azureml.core.compute import AmlCompute\n",
    "\n",
    "# Configuration of the compute cluster\n",
    "compute_config = AmlCompute.provisioning_configuration(vm_size=\"STANDARD_D11_V2\",\n",
    "                                                      vm_priority='dedicated',\n",
    "                                                      min_nodes=0,\n",
    "                                                      max_nodes=2)\n",
    "\n",
    "# Create the cluster \n",
    "AmlCompute.create(ws, cluster_name, compute_config)"
   ]
  },
  {
   "cell_type": "markdown",
   "id": "f45c38ce",
   "metadata": {},
   "source": []
  },
  {
   "cell_type": "markdown",
   "id": "4c2925cf",
   "metadata": {},
   "source": []
  },
  {
   "cell_type": "markdown",
   "id": "a500303f",
   "metadata": {},
   "source": []
  },
  {
   "cell_type": "code",
   "execution_count": null,
   "id": "691d81f8",
   "metadata": {},
   "outputs": [],
   "source": []
  },
  {
   "cell_type": "code",
   "execution_count": null,
   "id": "d9c1ec2e",
   "metadata": {},
   "outputs": [],
   "source": []
  },
  {
   "cell_type": "code",
   "execution_count": null,
   "id": "43420658",
   "metadata": {},
   "outputs": [],
   "source": []
  },
  {
   "cell_type": "code",
   "execution_count": null,
   "id": "e71ba431",
   "metadata": {},
   "outputs": [],
   "source": []
  },
  {
   "cell_type": "code",
   "execution_count": null,
   "id": "784e52b0",
   "metadata": {},
   "outputs": [],
   "source": []
  },
  {
   "cell_type": "code",
   "execution_count": null,
   "id": "3787a9fd",
   "metadata": {},
   "outputs": [],
   "source": []
  },
  {
   "cell_type": "code",
   "execution_count": null,
   "id": "55aa6b7c",
   "metadata": {},
   "outputs": [],
   "source": []
  },
  {
   "cell_type": "code",
   "execution_count": null,
   "id": "a1f5472b",
   "metadata": {},
   "outputs": [],
   "source": []
  },
  {
   "cell_type": "code",
   "execution_count": null,
   "id": "2b26feb5",
   "metadata": {},
   "outputs": [],
   "source": []
  },
  {
   "cell_type": "code",
   "execution_count": null,
   "id": "34eec5b0",
   "metadata": {},
   "outputs": [],
   "source": []
  },
  {
   "cell_type": "code",
   "execution_count": null,
   "id": "a9c7f59f",
   "metadata": {},
   "outputs": [],
   "source": []
  },
  {
   "cell_type": "code",
   "execution_count": null,
   "id": "04877e0a",
   "metadata": {},
   "outputs": [],
   "source": []
  },
  {
   "cell_type": "code",
   "execution_count": null,
   "id": "26a6de4d",
   "metadata": {},
   "outputs": [],
   "source": []
  },
  {
   "cell_type": "code",
   "execution_count": null,
   "id": "2fcfc1aa",
   "metadata": {},
   "outputs": [],
   "source": []
  },
  {
   "cell_type": "code",
   "execution_count": null,
   "id": "14e9b20e",
   "metadata": {},
   "outputs": [],
   "source": []
  },
  {
   "cell_type": "markdown",
   "id": "335abf82",
   "metadata": {},
   "source": [
    "\n",
    "Get started with Azure Machine Learning notebooks and R scripts by creating a compute instance\n",
    "Choose from a selection of CPU or GPU instances preconfigured with popular tools such as VS Code, JupyterLab, Jupyter, and RStudio, ML packages, deep learning frameworks, and GPU drivers.\n",
    "\n",
    "Learn more : https://learn.microsoft.com/fr-fr/azure/machine-learning/concept-compute-instance"
   ]
  }
 ],
 "metadata": {
  "kernelspec": {
   "display_name": "Python 3 (ipykernel)",
   "language": "python",
   "name": "python3"
  },
  "language_info": {
   "codemirror_mode": {
    "name": "ipython",
    "version": 3
   },
   "file_extension": ".py",
   "mimetype": "text/x-python",
   "name": "python",
   "nbconvert_exporter": "python",
   "pygments_lexer": "ipython3",
   "version": "3.10.9"
  }
 },
 "nbformat": 4,
 "nbformat_minor": 5
}
