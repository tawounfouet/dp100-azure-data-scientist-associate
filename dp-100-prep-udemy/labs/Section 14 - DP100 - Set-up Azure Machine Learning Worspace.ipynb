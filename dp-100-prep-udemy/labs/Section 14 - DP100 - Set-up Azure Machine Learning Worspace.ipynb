{
 "cells": [
  {
   "cell_type": "code",
   "execution_count": 1,
   "id": "9fac8549",
   "metadata": {},
   "outputs": [],
   "source": [
    "import azureml.core"
   ]
  },
  {
   "cell_type": "code",
   "execution_count": 2,
   "id": "f8c630db",
   "metadata": {},
   "outputs": [],
   "source": [
    "# Import Workspace class\n",
    "\n",
    "from azureml.core import Workspace"
   ]
  },
  {
   "cell_type": "code",
   "execution_count": 7,
   "id": "92c84046",
   "metadata": {
    "collapsed": true
   },
   "outputs": [
    {
     "name": "stdout",
     "output_type": "stream",
     "text": [
      "Deploying KeyVault with name azuremlskeyvault043e1c79.\n",
      "Deploying AppInsights with name azuremlsinsightsf317bb61.\n",
      "Deployed AppInsights with name azuremlsinsightsf317bb61. Took 8.66 seconds.\n",
      "Deploying StorageAccount with name azuremlsstoragebcb8b7f54.\n",
      "Deployed KeyVault with name azuremlskeyvault043e1c79. Took 25.2 seconds.\n",
      "Deployed StorageAccount with name azuremlsstoragebcb8b7f54. Took 29.12 seconds.\n",
      "Deploying Workspace with name Azureml-SDK-WS001.\n",
      "Deployed Workspace with name Azureml-SDK-WS001. Took 28.75 seconds.\n"
     ]
    }
   ],
   "source": [
    "# Create the wrokplace\n",
    "\n",
    "ws = Workspace.create(name=\"Azureml-SDK-WS001\",\n",
    "                     subscription_id=\"721e8e8b-4456-49f5-a29c-c7c5a9b2e71e\",\n",
    "                     resource_group=\"AzuremL-SDK-RG01\",\n",
    "                     create_resource_group=\"True\",\n",
    "                     location=\"westus\") # West US"
   ]
  },
  {
   "cell_type": "markdown",
   "id": "abb8710e",
   "metadata": {},
   "source": [
    "**Created Workspace** : https://ml.azure.com/?wsid=/subscriptions/3dddd7d3-09f0-464e-8095-599d52d06724/resourcegroups/AzuremL-SDK-RG01/providers/Microsoft.MachineLearningServices/workspaces/Azureml-SDK-WS01&tid=e11de026-7072-4caf-a287-71376ca4d792"
   ]
  },
  {
   "cell_type": "code",
   "execution_count": 8,
   "id": "3fe1bdfb",
   "metadata": {},
   "outputs": [],
   "source": [
    "# Create the config.json file to local directory\n",
    "\n",
    "ws.write_config(path=\"./config\")"
   ]
  },
  {
   "cell_type": "markdown",
   "id": "99ba8820",
   "metadata": {},
   "source": [
    "### Storage account with data\n",
    "\n",
    "#### Create and Register a Datastore using AzureML SDK"
   ]
  },
  {
   "cell_type": "code",
   "execution_count": 3,
   "id": "f6a04a15",
   "metadata": {},
   "outputs": [
    {
     "name": "stderr",
     "output_type": "stream",
     "text": [
      "Warning: Falling back to use azure cli login credentials.\n",
      "If you run your code in unattended mode, i.e., where you can't give a user input, then we recommend to use ServicePrincipalAuthentication or MsiAuthentication.\n",
      "Please refer to aka.ms/aml-notebook-auth for different authentication mechanisms in azureml-sdk.\n"
     ]
    },
    {
     "data": {
      "text/plain": [
       "Workspace.create(name='Azureml-SDK-WS001', subscription_id='721e8e8b-4456-49f5-a29c-c7c5a9b2e71e', resource_group='AzuremL-SDK-RG01')"
      ]
     },
     "execution_count": 3,
     "metadata": {},
     "output_type": "execute_result"
    }
   ],
   "source": [
    "# Import the Workspace and Datastore class\n",
    "from azureml.core import Workspace, Datastore\n",
    "\n",
    "# Acces the workspace from config.json\n",
    "ws = Workspace.from_config(path=\"./config\")\n",
    "ws"
   ]
  },
  {
   "cell_type": "code",
   "execution_count": 4,
   "id": "8191deec",
   "metadata": {},
   "outputs": [],
   "source": [
    "\n",
    "# Create a datastore\n",
    "\n",
    "az_store = Datastore.register_azure_blob_container(\n",
    "            workspace=ws,\n",
    "            datastore_name=\"azure_sdk_blob02\", # name of the datastore to be created\n",
    "            account_name=\"azuremlstdp100awf\", # name of existing storage account were to place the datastore\n",
    "            container_name=\"azuremlstb01blob\", # name of existing container where data is stored\n",
    "            account_key=\"/ugpREcciy9/zIpSQIJaDRi9ImKv4mlkVlIlvCkfac9VYPa1bQ5b4bioVU74K28pP+dJX1DVc8go+AStYe+YWw==\")\n"
   ]
  },
  {
   "cell_type": "code",
   "execution_count": 5,
   "id": "390d8aad",
   "metadata": {},
   "outputs": [
    {
     "data": {
      "text/plain": [
       "{\n",
       "  \"name\": \"azure_sdk_blob02\",\n",
       "  \"container_name\": \"azuremlstb01blob\",\n",
       "  \"account_name\": \"azuremlstdp100awf\",\n",
       "  \"protocol\": \"https\",\n",
       "  \"endpoint\": \"core.windows.net\"\n",
       "}"
      ]
     },
     "execution_count": 5,
     "metadata": {},
     "output_type": "execute_result"
    }
   ],
   "source": [
    "az_store"
   ]
  },
  {
   "cell_type": "markdown",
   "id": "37b9ed3c",
   "metadata": {},
   "source": [
    "**Created Datastore** : https://ml.azure.com/data/datastore?wsid=/subscriptions/3dddd7d3-09f0-464e-8095-599d52d06724/resourcegroups/AzuremL-SDK-RG01/providers/Microsoft.MachineLearningServices/workspaces/Azureml-SDK-WS01&tid=e11de026-7072-4caf-a287-71376ca4d792"
   ]
  },
  {
   "cell_type": "markdown",
   "id": "edee6192",
   "metadata": {},
   "source": [
    "#### Create and Register a Dataset using SDK"
   ]
  },
  {
   "cell_type": "code",
   "execution_count": 6,
   "id": "30821f1a",
   "metadata": {},
   "outputs": [],
   "source": [
    "# Import the Workspace, Datastore and Datasets class\n",
    "from azureml.core import Workspace, Datastore, Dataset\n",
    "\n",
    "# Acces the workspace from config.json\n",
    "ws = Workspace.from_config(path=\"./config\")\n",
    "\n",
    "# Access datastore\n",
    "az_store = Datastore.get(ws, \"azure_sdk_blob02\")"
   ]
  },
  {
   "cell_type": "code",
   "execution_count": null,
   "id": "cca94fe1",
   "metadata": {},
   "outputs": [],
   "source": [
    "# Create the path of the csv file\n",
    "csv_path = [(az_store, \"Loan Data/Loan_Approval_Prediction.csv\")]\n",
    "\n",
    "# Create the dataset\n",
    "loan_dataset = Dataset.Tabular.from_delimited_files(path=csv_path)\n",
    "\n",
    "# Register the dataset\n",
    "loan_dataset = loan_dataset.register(workspace=ws, \n",
    "                                    name=\"Loan Applications using SDK\",\n",
    "                                    create_new_version=True)"
   ]
  },
  {
   "cell_type": "markdown",
   "id": "e1cb8e11",
   "metadata": {},
   "source": [
    "**Created Datasets** : https://ml.azure.com/data?wsid=/subscriptions/3dddd7d3-09f0-464e-8095-599d52d06724/resourcegroups/AzuremL-SDK-RG01/providers/Microsoft.MachineLearningServices/workspaces/Azureml-SDK-WS01&tid=e11de026-7072-4caf-a287-71376ca4d792"
   ]
  },
  {
   "cell_type": "code",
   "execution_count": 30,
   "id": "75390a69",
   "metadata": {},
   "outputs": [
    {
     "data": {
      "text/plain": [
       "{\n",
       "  \"source\": [\n",
       "    \"('azure_sdk_blob01', 'Loan Data/Loan_Approval_Prediction.csv')\"\n",
       "  ],\n",
       "  \"definition\": [\n",
       "    \"GetDatastoreFiles\",\n",
       "    \"ParseDelimited\",\n",
       "    \"DropColumns\",\n",
       "    \"SetColumnTypes\"\n",
       "  ],\n",
       "  \"registration\": {\n",
       "    \"id\": \"ab1adce6-6ad9-49f5-b00d-d3e0e5392b64\",\n",
       "    \"name\": \"Loan Applications using SDK\",\n",
       "    \"version\": 1,\n",
       "    \"workspace\": \"Workspace.create(name='Azureml-SDK-WS01', subscription_id='3dddd7d3-09f0-464e-8095-599d52d06724', resource_group='AzuremL-SDK-RG01')\"\n",
       "  }\n",
       "}"
      ]
     },
     "execution_count": 30,
     "metadata": {},
     "output_type": "execute_result"
    }
   ],
   "source": [
    "loan_dataset"
   ]
  },
  {
   "cell_type": "markdown",
   "id": "2b826f69",
   "metadata": {},
   "source": [
    "### Access Worspace, Datastore and Datasets using SDK"
   ]
  },
  {
   "cell_type": "markdown",
   "id": "bcd49d48",
   "metadata": {},
   "source": [
    "#### Access Worspace"
   ]
  },
  {
   "cell_type": "code",
   "execution_count": 9,
   "id": "91278801",
   "metadata": {},
   "outputs": [
    {
     "data": {
      "text/plain": [
       "{'Azureml-SDK-WS001': [Workspace.create(name='Azureml-SDK-WS001', subscription_id='721e8e8b-4456-49f5-a29c-c7c5a9b2e71e', resource_group='AzuremL-SDK-RG01')]}"
      ]
     },
     "execution_count": 9,
     "metadata": {},
     "output_type": "execute_result"
    }
   ],
   "source": [
    "# List all workspaces within a subscription\n",
    "\n",
    "ws_list = Workspace.list(subscription_id=\"721e8e8b-4456-49f5-a29c-c7c5a9b2e71e\")\n",
    "ws_list"
   ]
  },
  {
   "cell_type": "code",
   "execution_count": 10,
   "id": "17a5601b",
   "metadata": {},
   "outputs": [
    {
     "data": {
      "text/plain": [
       "dict_keys(['Azureml-SDK-WS001'])"
      ]
     },
     "execution_count": 10,
     "metadata": {},
     "output_type": "execute_result"
    }
   ],
   "source": [
    "ws_list.keys()"
   ]
  },
  {
   "cell_type": "code",
   "execution_count": 11,
   "id": "ff12dee5",
   "metadata": {},
   "outputs": [
    {
     "data": {
      "text/plain": [
       "dict_values([[Workspace.create(name='Azureml-SDK-WS001', subscription_id='721e8e8b-4456-49f5-a29c-c7c5a9b2e71e', resource_group='AzuremL-SDK-RG01')]])"
      ]
     },
     "execution_count": 11,
     "metadata": {},
     "output_type": "execute_result"
    }
   ],
   "source": [
    "ws_list.values()"
   ]
  },
  {
   "cell_type": "code",
   "execution_count": 12,
   "id": "73202009",
   "metadata": {},
   "outputs": [
    {
     "data": {
      "text/plain": [
       "['Azureml-SDK-WS001']"
      ]
     },
     "execution_count": 12,
     "metadata": {},
     "output_type": "execute_result"
    }
   ],
   "source": [
    "# Print workspaces in a list\n",
    "ws_list = list(ws_list)\n",
    "ws_list"
   ]
  },
  {
   "cell_type": "markdown",
   "id": "8f3e83fd",
   "metadata": {},
   "source": [
    "#### Access Datastore from Worspace"
   ]
  },
  {
   "cell_type": "code",
   "execution_count": 13,
   "id": "8fc095d7",
   "metadata": {},
   "outputs": [
    {
     "data": {
      "text/plain": [
       "{\n",
       "  \"name\": \"workspaceblobstore\",\n",
       "  \"container_name\": \"azureml-blobstore-31b625b6-0845-4461-9a3f-fae88bb43659\",\n",
       "  \"account_name\": \"azuremlsstoragebcb8b7f54\",\n",
       "  \"protocol\": \"https\",\n",
       "  \"endpoint\": \"core.windows.net\"\n",
       "}"
      ]
     },
     "execution_count": 13,
     "metadata": {},
     "output_type": "execute_result"
    }
   ],
   "source": [
    "# Access the default datastore from workspace\n",
    "\n",
    "az_default_store = ws.get_default_datastore()\n",
    "az_default_store"
   ]
  },
  {
   "cell_type": "code",
   "execution_count": 14,
   "id": "fd0fac7d",
   "metadata": {},
   "outputs": [
    {
     "data": {
      "text/plain": [
       "['azure_sdk_blob02',\n",
       " 'azure_sdk_blob01',\n",
       " 'azureml_ds_b01',\n",
       " 'azureml_globaldatasets',\n",
       " 'workspaceblobstore',\n",
       " 'workspaceartifactstore',\n",
       " 'workspaceworkingdirectory',\n",
       " 'workspacefilestore']"
      ]
     },
     "execution_count": 14,
     "metadata": {},
     "output_type": "execute_result"
    }
   ],
   "source": [
    "# List all the datastores \n",
    "\n",
    "store_list = list(ws.datastores)\n",
    "store_list"
   ]
  },
  {
   "cell_type": "markdown",
   "id": "c8681d6b",
   "metadata": {},
   "source": [
    "#### Access Datasets from a Worspace"
   ]
  },
  {
   "cell_type": "code",
   "execution_count": 16,
   "id": "8b097101",
   "metadata": {},
   "outputs": [],
   "source": [
    "# Get the datasets from a Workplace \n",
    "\n",
    "az_dataset = Dataset.get_by_name(ws, \"Loan Applications Using SDK\")\n",
    "az_dataset"
   ]
  },
  {
   "cell_type": "code",
   "execution_count": 53,
   "id": "d2d9214d",
   "metadata": {},
   "outputs": [
    {
     "data": {
      "text/plain": [
       "['Loan Applications using SDK']"
      ]
     },
     "execution_count": 53,
     "metadata": {},
     "output_type": "execute_result"
    }
   ],
   "source": [
    "# List datasets from a workplace\n",
    "\n",
    "ds_list = list(ws.datasets.keys())\n",
    "ds_list"
   ]
  },
  {
   "cell_type": "code",
   "execution_count": 54,
   "id": "3e6f6762",
   "metadata": {},
   "outputs": [
    {
     "name": "stdout",
     "output_type": "stream",
     "text": [
      "Loan Applications using SDK\n"
     ]
    }
   ],
   "source": [
    "for items in ds_list:\n",
    "    print(items)"
   ]
  },
  {
   "cell_type": "markdown",
   "id": "23ec751d",
   "metadata": {},
   "source": [
    "### Pandas Dataframe and AzureML Datasets conversions"
   ]
  },
  {
   "cell_type": "code",
   "execution_count": 60,
   "id": "171b1a5c",
   "metadata": {},
   "outputs": [],
   "source": [
    "# Import required classes from Azureml\n",
    "from azureml.core import Workspace, Datastore, Dataset\n",
    "\n",
    "\n",
    "# Access the Worspace, Datastore and Datasets\n",
    "ws = Workspace.from_config(\"./config\")\n",
    "az_store = Datastore.get(ws, \"azure_sdk_blob01\")\n",
    "az_dataset = Dataset.get_by_name(ws, \"Loan Applications Using SDK\")\n",
    "az_default_store = ws.get_default_datastore()"
   ]
  },
  {
   "cell_type": "code",
   "execution_count": 63,
   "id": "6adc1267",
   "metadata": {},
   "outputs": [
    {
     "data": {
      "text/html": [
       "<div>\n",
       "<style scoped>\n",
       "    .dataframe tbody tr th:only-of-type {\n",
       "        vertical-align: middle;\n",
       "    }\n",
       "\n",
       "    .dataframe tbody tr th {\n",
       "        vertical-align: top;\n",
       "    }\n",
       "\n",
       "    .dataframe thead th {\n",
       "        text-align: right;\n",
       "    }\n",
       "</style>\n",
       "<table border=\"1\" class=\"dataframe\">\n",
       "  <thead>\n",
       "    <tr style=\"text-align: right;\">\n",
       "      <th></th>\n",
       "      <th>Loan_ID</th>\n",
       "      <th>Gender</th>\n",
       "      <th>Married</th>\n",
       "      <th>Dependents</th>\n",
       "      <th>Education</th>\n",
       "      <th>Self_Employed</th>\n",
       "      <th>ApplicantIncome</th>\n",
       "      <th>CoapplicantIncome</th>\n",
       "      <th>LoanAmount</th>\n",
       "      <th>Loan_Amount_Term</th>\n",
       "      <th>Credit_History</th>\n",
       "      <th>Property_Area</th>\n",
       "      <th>Loan_Status</th>\n",
       "    </tr>\n",
       "  </thead>\n",
       "  <tbody>\n",
       "    <tr>\n",
       "      <th>0</th>\n",
       "      <td>LP001002</td>\n",
       "      <td>Male</td>\n",
       "      <td>False</td>\n",
       "      <td>0</td>\n",
       "      <td>Graduate</td>\n",
       "      <td>False</td>\n",
       "      <td>5849</td>\n",
       "      <td>0.0</td>\n",
       "      <td>NaN</td>\n",
       "      <td>360.0</td>\n",
       "      <td>1.0</td>\n",
       "      <td>Urban</td>\n",
       "      <td>True</td>\n",
       "    </tr>\n",
       "    <tr>\n",
       "      <th>1</th>\n",
       "      <td>LP001003</td>\n",
       "      <td>Male</td>\n",
       "      <td>True</td>\n",
       "      <td>1</td>\n",
       "      <td>Graduate</td>\n",
       "      <td>False</td>\n",
       "      <td>4583</td>\n",
       "      <td>1508.0</td>\n",
       "      <td>128.0</td>\n",
       "      <td>360.0</td>\n",
       "      <td>1.0</td>\n",
       "      <td>Rural</td>\n",
       "      <td>False</td>\n",
       "    </tr>\n",
       "    <tr>\n",
       "      <th>2</th>\n",
       "      <td>LP001005</td>\n",
       "      <td>Male</td>\n",
       "      <td>True</td>\n",
       "      <td>0</td>\n",
       "      <td>Graduate</td>\n",
       "      <td>True</td>\n",
       "      <td>3000</td>\n",
       "      <td>0.0</td>\n",
       "      <td>66.0</td>\n",
       "      <td>360.0</td>\n",
       "      <td>1.0</td>\n",
       "      <td>Urban</td>\n",
       "      <td>True</td>\n",
       "    </tr>\n",
       "    <tr>\n",
       "      <th>3</th>\n",
       "      <td>LP001006</td>\n",
       "      <td>Male</td>\n",
       "      <td>True</td>\n",
       "      <td>0</td>\n",
       "      <td>Not Graduate</td>\n",
       "      <td>False</td>\n",
       "      <td>2583</td>\n",
       "      <td>2358.0</td>\n",
       "      <td>120.0</td>\n",
       "      <td>360.0</td>\n",
       "      <td>1.0</td>\n",
       "      <td>Urban</td>\n",
       "      <td>True</td>\n",
       "    </tr>\n",
       "    <tr>\n",
       "      <th>4</th>\n",
       "      <td>LP001008</td>\n",
       "      <td>Male</td>\n",
       "      <td>False</td>\n",
       "      <td>0</td>\n",
       "      <td>Graduate</td>\n",
       "      <td>False</td>\n",
       "      <td>6000</td>\n",
       "      <td>0.0</td>\n",
       "      <td>141.0</td>\n",
       "      <td>360.0</td>\n",
       "      <td>1.0</td>\n",
       "      <td>Urban</td>\n",
       "      <td>True</td>\n",
       "    </tr>\n",
       "  </tbody>\n",
       "</table>\n",
       "</div>"
      ],
      "text/plain": [
       "    Loan_ID Gender Married Dependents     Education Self_Employed  \\\n",
       "0  LP001002   Male   False          0      Graduate         False   \n",
       "1  LP001003   Male    True          1      Graduate         False   \n",
       "2  LP001005   Male    True          0      Graduate          True   \n",
       "3  LP001006   Male    True          0  Not Graduate         False   \n",
       "4  LP001008   Male   False          0      Graduate         False   \n",
       "\n",
       "   ApplicantIncome  CoapplicantIncome  LoanAmount  Loan_Amount_Term  \\\n",
       "0             5849                0.0         NaN             360.0   \n",
       "1             4583             1508.0       128.0             360.0   \n",
       "2             3000                0.0        66.0             360.0   \n",
       "3             2583             2358.0       120.0             360.0   \n",
       "4             6000                0.0       141.0             360.0   \n",
       "\n",
       "   Credit_History Property_Area  Loan_Status  \n",
       "0             1.0         Urban         True  \n",
       "1             1.0         Rural        False  \n",
       "2             1.0         Urban         True  \n",
       "3             1.0         Urban         True  \n",
       "4             1.0         Urban         True  "
      ]
     },
     "execution_count": 63,
     "metadata": {},
     "output_type": "execute_result"
    }
   ],
   "source": [
    "# Load the Azureml Dataset into the pandas dataframe\n",
    "\n",
    "df = az_dataset.to_pandas_dataframe()\n",
    "df.head()"
   ]
  },
  {
   "cell_type": "code",
   "execution_count": 65,
   "id": "919564b0",
   "metadata": {},
   "outputs": [
    {
     "name": "stdout",
     "output_type": "stream",
     "text": [
      "Validating arguments.\n",
      "Arguments validated.\n",
      "Successfully obtained datastore reference and path.\n",
      "Uploading file to managed-dataset/5c3ef83d-cb2b-44a3-ae15-759302a2fa56/\n",
      "Successfully uploaded file to datastore.\n",
      "Creating and registering a new dataset.\n",
      "Successfully created and registered a new dataset.\n"
     ]
    }
   ],
   "source": [
    "# Upload the dataframe to the azureml dataset\n",
    "df_sub = df[[\"Married\", \"Gender\", \"Loan_Status\"]]\n",
    "\n",
    "#df_sub.head()\n",
    "\n",
    "az_ds_from_df = Dataset.Tabular.register_pandas_dataframe(dataframe=df_sub,\n",
    "                                                         target=az_store,\n",
    "                                                         name=\"Loan Dataset From Dataframe\")"
   ]
  },
  {
   "cell_type": "code",
   "execution_count": null,
   "id": "97e7fc11",
   "metadata": {},
   "outputs": [],
   "source": []
  },
  {
   "cell_type": "markdown",
   "id": "5be77eee",
   "metadata": {},
   "source": [
    "### Upload local data to storage account via datastore"
   ]
  },
  {
   "cell_type": "code",
   "execution_count": 57,
   "id": "438999c1",
   "metadata": {},
   "outputs": [
    {
     "name": "stderr",
     "output_type": "stream",
     "text": [
      "\"datastore.upload_files\" is deprecated after version 1.0.69. Please use \"FileDatasetFactory.upload_directory\" instead. See Dataset API change notice at https://aka.ms/dataset-deprecation.\n"
     ]
    },
    {
     "name": "stdout",
     "output_type": "stream",
     "text": [
      "Uploading an estimated of 2 files\n",
      "Uploading ./data/test.csv\n",
      "Uploaded ./data/test.csv, 1 files out of an estimated total of 2\n",
      "Uploading ./data/test1.csv\n",
      "Uploaded ./data/test1.csv, 2 files out of an estimated total of 2\n",
      "Uploaded 2 files\n"
     ]
    },
    {
     "data": {
      "text/plain": [
       "$AZUREML_DATAREFERENCE_df00dae89ef94cddb380118c4247049c"
      ]
     },
     "execution_count": 57,
     "metadata": {},
     "output_type": "execute_result"
    }
   ],
   "source": [
    "# Upload local files to storage account using datastore\n",
    "\n",
    "files_list = [\"./data/test.csv\", \"./data/test1.csv\"]\n",
    "\n",
    "az_store.upload_files(files=files_list,\n",
    "                     target_path=\"Loan Data/\",\n",
    "                     relative_root = \"./data/\",\n",
    "                     overwrite=True)"
   ]
  },
  {
   "cell_type": "code",
   "execution_count": 59,
   "id": "9facede8",
   "metadata": {},
   "outputs": [
    {
     "name": "stderr",
     "output_type": "stream",
     "text": [
      "\"Datastore.upload\" is deprecated after version 1.0.69. Please use \"Dataset.File.upload_directory\" to upload your files             from a local directory and create FileDataset in single method call. See Dataset API change notice at https://aka.ms/dataset-deprecation.\n"
     ]
    },
    {
     "name": "stdout",
     "output_type": "stream",
     "text": [
      "Uploading an estimated of 2 files\n",
      "Uploading ./data/test.csv\n",
      "Uploaded ./data/test.csv, 1 files out of an estimated total of 2\n",
      "Uploading ./data/test1.csv\n",
      "Uploaded ./data/test1.csv, 2 files out of an estimated total of 2\n",
      "Uploaded 2 files\n"
     ]
    },
    {
     "data": {
      "text/plain": [
       "$AZUREML_DATAREFERENCE_6bab67239aa04f5290717fd560446304"
      ]
     },
     "execution_count": 59,
     "metadata": {},
     "output_type": "execute_result"
    }
   ],
   "source": [
    "# Upload folder or directory to the storage account\n",
    "\n",
    "az_store.upload(src_dir=\"./data\", \n",
    "               target_path=\"Loan Data/data\",\n",
    "               overwrite=True)"
   ]
  },
  {
   "cell_type": "code",
   "execution_count": null,
   "id": "38bf797f",
   "metadata": {},
   "outputs": [],
   "source": []
  }
 ],
 "metadata": {
  "kernelspec": {
   "display_name": "Python 3 (ipykernel)",
   "language": "python",
   "name": "python3"
  },
  "language_info": {
   "codemirror_mode": {
    "name": "ipython",
    "version": 3
   },
   "file_extension": ".py",
   "mimetype": "text/x-python",
   "name": "python",
   "nbconvert_exporter": "python",
   "pygments_lexer": "ipython3",
   "version": "3.10.12"
  }
 },
 "nbformat": 4,
 "nbformat_minor": 5
}
