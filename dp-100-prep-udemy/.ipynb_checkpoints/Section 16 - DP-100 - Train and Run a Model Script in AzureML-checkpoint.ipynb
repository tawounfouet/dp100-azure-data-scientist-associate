{
 "cells": [
  {
   "cell_type": "markdown",
   "id": "137fe0a7",
   "metadata": {},
   "source": [
    "## Predict the Loan Status using Logistic Regression in scikit-learn"
   ]
  },
  {
   "cell_type": "code",
   "execution_count": 1,
   "id": "e30d411c",
   "metadata": {},
   "outputs": [],
   "source": [
    "import pandas as pd"
   ]
  },
  {
   "cell_type": "code",
   "execution_count": 2,
   "id": "37de08d0",
   "metadata": {},
   "outputs": [],
   "source": [
    "# Load the data from the local files\n",
    "\n",
    "df = pd.read_csv(\"./data/loan.csv\")"
   ]
  },
  {
   "cell_type": "code",
   "execution_count": 9,
   "id": "862167b8",
   "metadata": {},
   "outputs": [
    {
     "data": {
      "text/html": [
       "<div>\n",
       "<style scoped>\n",
       "    .dataframe tbody tr th:only-of-type {\n",
       "        vertical-align: middle;\n",
       "    }\n",
       "\n",
       "    .dataframe tbody tr th {\n",
       "        vertical-align: top;\n",
       "    }\n",
       "\n",
       "    .dataframe thead th {\n",
       "        text-align: right;\n",
       "    }\n",
       "</style>\n",
       "<table border=\"1\" class=\"dataframe\">\n",
       "  <thead>\n",
       "    <tr style=\"text-align: right;\">\n",
       "      <th></th>\n",
       "      <th>Married</th>\n",
       "      <th>Education</th>\n",
       "      <th>Self_Employed</th>\n",
       "      <th>ApplicantIncome</th>\n",
       "      <th>LoanAmount</th>\n",
       "      <th>Credit_History</th>\n",
       "      <th>Loan_Status</th>\n",
       "    </tr>\n",
       "  </thead>\n",
       "  <tbody>\n",
       "    <tr>\n",
       "      <th>0</th>\n",
       "      <td>No</td>\n",
       "      <td>Graduate</td>\n",
       "      <td>No</td>\n",
       "      <td>5849</td>\n",
       "      <td>NaN</td>\n",
       "      <td>1.0</td>\n",
       "      <td>Y</td>\n",
       "    </tr>\n",
       "    <tr>\n",
       "      <th>1</th>\n",
       "      <td>Yes</td>\n",
       "      <td>Graduate</td>\n",
       "      <td>No</td>\n",
       "      <td>4583</td>\n",
       "      <td>128.0</td>\n",
       "      <td>1.0</td>\n",
       "      <td>N</td>\n",
       "    </tr>\n",
       "    <tr>\n",
       "      <th>2</th>\n",
       "      <td>Yes</td>\n",
       "      <td>Graduate</td>\n",
       "      <td>Yes</td>\n",
       "      <td>3000</td>\n",
       "      <td>66.0</td>\n",
       "      <td>1.0</td>\n",
       "      <td>Y</td>\n",
       "    </tr>\n",
       "    <tr>\n",
       "      <th>3</th>\n",
       "      <td>Yes</td>\n",
       "      <td>Not Graduate</td>\n",
       "      <td>No</td>\n",
       "      <td>2583</td>\n",
       "      <td>120.0</td>\n",
       "      <td>1.0</td>\n",
       "      <td>Y</td>\n",
       "    </tr>\n",
       "    <tr>\n",
       "      <th>4</th>\n",
       "      <td>No</td>\n",
       "      <td>Graduate</td>\n",
       "      <td>No</td>\n",
       "      <td>6000</td>\n",
       "      <td>141.0</td>\n",
       "      <td>1.0</td>\n",
       "      <td>Y</td>\n",
       "    </tr>\n",
       "  </tbody>\n",
       "</table>\n",
       "</div>"
      ],
      "text/plain": [
       "  Married     Education Self_Employed  ApplicantIncome  LoanAmount  \\\n",
       "0      No      Graduate            No             5849         NaN   \n",
       "1     Yes      Graduate            No             4583       128.0   \n",
       "2     Yes      Graduate           Yes             3000        66.0   \n",
       "3     Yes  Not Graduate            No             2583       120.0   \n",
       "4      No      Graduate            No             6000       141.0   \n",
       "\n",
       "   Credit_History Loan_Status  \n",
       "0             1.0           Y  \n",
       "1             1.0           N  \n",
       "2             1.0           Y  \n",
       "3             1.0           Y  \n",
       "4             1.0           Y  "
      ]
     },
     "execution_count": 9,
     "metadata": {},
     "output_type": "execute_result"
    }
   ],
   "source": [
    "LoanPrep = df[[\"Married\", \"Education\", \"Self_Employed\", \"ApplicantIncome\", \"LoanAmount\",\n",
    "              \"Credit_History\", \"Loan_Status\"]]\n",
    "\n",
    "LoanPrep.head()"
   ]
  },
  {
   "cell_type": "code",
   "execution_count": 10,
   "id": "499940b3",
   "metadata": {},
   "outputs": [
    {
     "data": {
      "text/plain": [
       "Married             3\n",
       "Education           0\n",
       "Self_Employed      32\n",
       "ApplicantIncome     0\n",
       "LoanAmount         22\n",
       "Credit_History     50\n",
       "Loan_Status         0\n",
       "dtype: int64"
      ]
     },
     "execution_count": 10,
     "metadata": {},
     "output_type": "execute_result"
    }
   ],
   "source": [
    "LoanPrep.isna().sum()"
   ]
  },
  {
   "cell_type": "code",
   "execution_count": 11,
   "id": "e24897af",
   "metadata": {},
   "outputs": [],
   "source": [
    "# Clean Missing Data - Drop the columns with the missing values\n",
    "\n",
    "LoanPrep = LoanPrep.dropna()"
   ]
  },
  {
   "cell_type": "code",
   "execution_count": 12,
   "id": "958b02b4",
   "metadata": {},
   "outputs": [
    {
     "data": {
      "text/plain": [
       "Married            0\n",
       "Education          0\n",
       "Self_Employed      0\n",
       "ApplicantIncome    0\n",
       "LoanAmount         0\n",
       "Credit_History     0\n",
       "Loan_Status        0\n",
       "dtype: int64"
      ]
     },
     "execution_count": 12,
     "metadata": {},
     "output_type": "execute_result"
    }
   ],
   "source": [
    "LoanPrep.isna().sum()"
   ]
  },
  {
   "cell_type": "code",
   "execution_count": null,
   "id": "f0f67cca",
   "metadata": {},
   "outputs": [],
   "source": []
  },
  {
   "cell_type": "markdown",
   "id": "aba2a0b8",
   "metadata": {},
   "source": [
    "### Training / Predict Script"
   ]
  },
  {
   "cell_type": "code",
   "execution_count": null,
   "id": "74dac7ba",
   "metadata": {},
   "outputs": [],
   "source": [
    "# ------------------------------------------------------------------\n",
    "# Predict the Loan Status using Logistic Regression in scikit-learn\n",
    "# ------------------------------------------------------------------\n",
    "\n",
    "# Import required classes from Azureml\n",
    "from azureml.core import Workspace, Run\n",
    "\n",
    "# Access the Workspace\n",
    "ws = Workspace.from_config(\"./config\")\n",
    "\n",
    "# Get the context of the experiment run\n",
    "new_run = Run.get_context()\n",
    "\n",
    "\n",
    "# -----------------------------------------------------\n",
    "# Do your stuff here\n",
    "# -----------------------------------------------------\n",
    "import pandas as pd\n",
    "\n",
    "# Load the data from the local files\n",
    "df = pd.read_csv(\"./data/loan.csv\")\n",
    "\n",
    "# Select columns from the dataset\n",
    "LoanPrep = df[[\"Married\", \n",
    "             \"Education\",\n",
    "             \"Self_Employed\",\n",
    "             \"ApplicantIncome\",\n",
    "             \"LoanAmount\",\n",
    "             \"Loan_Amount_Term\",\n",
    "             \"Credit_History\",\n",
    "             \"Loan_Status\"\n",
    "             ]]\n",
    "\n",
    "# Clean Missing Data - Drop the columns with missing values\n",
    "LoanPrep = LoanPrep.dropna()\n",
    "\n",
    "\n",
    "# Create Dummy variables - Not required in designer\n",
    "LoanPrep = pd.get_dummies(LoanPrep, drop_first=True)\n",
    "\n",
    "# Create X and Y - Similar to \"edit columns\" in Train Module\n",
    "Y = LoanPrep[['Loan_Status_Y']]\n",
    "X = LoanPrep.drop(['Loan_Status_Y'], axis=1)\n",
    "\n",
    "\n",
    "# Split Data - X and Y datasets are training and testing sets\n",
    "from sklearn.model_selection import train_test_split\n",
    "\n",
    "X_train, X_test, Y_train, Y_test = \\\n",
    "train_test_split(X, Y, test_size = 0.3, random_state = 1234, stratify=Y)\n",
    "\n",
    "\n",
    "# Build the Logistic Regression model\n",
    "from sklearn.linear_model import LogisticRegression\n",
    "lr = LogisticRegression()\n",
    "\n",
    "\n",
    "# Fit the data to the LogisticRegression object - Train Model\n",
    "lr.fit(X_train, Y_train)\n",
    "\n",
    "\n",
    "# Predict the outcome using Test data - Score Model \n",
    "# Scored Label\n",
    "Y_predict = lr.predict(X_test)\n",
    "\n",
    "# Get the probability score - Scored Probabilities\n",
    "Y_prob = lr.predict_proba(X_test)[:, 1]\n",
    "\n",
    "# Get Confusion matrix and the accuracy/score - Evaluate\n",
    "from sklearn.metrics import confusion_matrix\n",
    "cm    = confusion_matrix(Y_test, Y_predict)\n",
    "score = lr.score(X_test, Y_test)\n",
    "\n",
    "\n",
    "\n",
    "\n",
    "\n",
    "# -----------------------------------------------------\n",
    "# Log metrics and Complete an experiment run\n",
    "# -----------------------------------------------------\n",
    "# Create the confusion matrix dictionary\n",
    "cm_dict = {\"schema_type\": \"confusion_matrix\",\n",
    "           \"schema_version\": \"v1\",\n",
    "           \"data\": {\"class_labels\": [\"N\", \"Y\"],\n",
    "                    \"matrix\": cm.tolist()}\n",
    "           }\n",
    "\n",
    "new_run.log(\"TotalObservations\", len(df))\n",
    "new_run.log_confusion_matrix(\"ConfusionMatrix\", cm_dict)\n",
    "new_run.log(\"Score\", score)\n",
    "\n",
    "# Create the Scored Dataset and upload to outputs\n",
    "# -----------------------------------------------\n",
    "# Test data - X_test\n",
    "# Actual Y - Y_test\n",
    "# Scored label\n",
    "# Scored probabilities\n",
    "\n",
    "X_test = X_test.reset_index(drop=True)\n",
    "Y_test = Y_test.reset_index(drop=True)\n",
    "\n",
    "Y_prob_df    = pd.DataFrame(Y_prob, columns=[\"Scored Probabilities\"]) \n",
    "Y_predict_df = pd.DataFrame(Y_predict, columns=[\"Scored Label\"]) \n",
    "\n",
    "scored_dataset = pd.concat([X_test, Y_test, Y_predict_df, Y_prob_df],\n",
    "                           axis=1)\n",
    "\n",
    "# Upload the scored dataset\n",
    "scored_dataset.to_csv(\"./outputs/loan_scored.csv\",\n",
    "                      index=False)\n",
    "\n",
    "# Complete the run\n",
    "new_run.complete()\n"
   ]
  },
  {
   "cell_type": "code",
   "execution_count": null,
   "id": "3248699c",
   "metadata": {},
   "outputs": [],
   "source": []
  },
  {
   "cell_type": "markdown",
   "id": "a445e144",
   "metadata": {},
   "source": [
    "### Run / Submit Script"
   ]
  },
  {
   "cell_type": "code",
   "execution_count": null,
   "id": "a6132bc3",
   "metadata": {},
   "outputs": [
    {
     "name": "stderr",
     "output_type": "stream",
     "text": [
      "The default web browser has been opened at https://login.microsoftonline.com/organizations/oauth2/v2.0/authorize. Please continue the login in the web browser. If no web browser is available or if the web browser fails to open, use device code flow with `az login --use-device-code`.\n"
     ]
    },
    {
     "name": "stdout",
     "output_type": "stream",
     "text": [
      "Performing interactive authentication. Please follow the instructions on the terminal.\n"
     ]
    }
   ],
   "source": [
    "\n",
    "# ------------------------------------------------------------\n",
    "# Run a script in an Azureml environment\n",
    "# ------------------------------------------------------------\n",
    "# This code will submit the script provided in ScriptRunConfig\n",
    "# and create an Azureml environment on the local machine\n",
    "# including docker for Azureml\n",
    "# -------------------------------------------------------------\n",
    "\n",
    "\n",
    "# Import the Azure Ml Classes\n",
    "from azureml.core import Environment\n",
    "from azureml.core.environment import CondaDependencies\n",
    "from azureml.core import Workspace, Experiment, ScriptRunConfig\n",
    "\n",
    "# Access the workplace using config.json\n",
    "ws = Workspace.from_config(\"./config\")\n",
    "\n",
    "# Create/access the experiment from workspace\n",
    "new_experiment = Experiment(workspace=ws,\n",
    "                            name=\"Training_Script\")\n",
    "\n",
    "# --------------------------------------------------------\n",
    "# Create custom environment\n",
    "\n",
    "myenv = Environment(name=\"MyEnvironment\")\n",
    "\n",
    "# Create the dependencies object\n",
    "myenv_dep = CondaDependencies.create(conda_packages=[\"scikit-Learn\"])\n",
    "myenv.python.conda_dependencies = myenv_dep\n",
    "\n",
    "myenv.register(ws)\n",
    "# --------------------------------------------------------\n",
    "\n",
    "script_config = ScriptRunConfig(source_directory=\".\",\n",
    "                          £      script=\"200 - Training Script.py\",\n",
    "                                environment=myenv)\n",
    "\n",
    "# Submit a new run using the ScriptRunConfig\n",
    "new_run = new_experiment.submit(config=script_config)\n"
   ]
  },
  {
   "cell_type": "code",
   "execution_count": null,
   "id": "c94632d9",
   "metadata": {},
   "outputs": [],
   "source": []
  }
 ],
 "metadata": {
  "kernelspec": {
   "display_name": "Python 3 (ipykernel)",
   "language": "python",
   "name": "python3"
  },
  "language_info": {
   "codemirror_mode": {
    "name": "ipython",
    "version": 3
   },
   "file_extension": ".py",
   "mimetype": "text/x-python",
   "name": "python",
   "nbconvert_exporter": "python",
   "pygments_lexer": "ipython3",
   "version": "3.10.9"
  }
 },
 "nbformat": 4,
 "nbformat_minor": 5
}
