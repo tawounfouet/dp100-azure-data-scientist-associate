{
 "cells": [
  {
   "attachments": {},
   "cell_type": "markdown",
   "metadata": {},
   "source": [
    "# Créer un magasin de données pour un conteneur Stockage Blob Azure\n",
    "\n",
    "Vous pouvez créer un magasin de données via l’interface utilisateur graphique, l’interface de ligne de commande (CLI) Azure ou le Kit de développement logiciel (SDK) Python.\n",
    "\n",
    "Selon le service de stockage auquel vous souhaitez vous connecter, il existe différentes options pour l’authentification d’Azure Machine Learning.\n",
    "\n",
    "Par exemple, lorsque vous souhaitez créer un magasin de données pour vous connecter à un conteneur Stockage Blob Azure, vous pouvez utiliser une clé de compte :"
   ]
  },
  {
   "cell_type": "code",
   "execution_count": null,
   "metadata": {},
   "outputs": [],
   "source": [
    "\n",
    "blob_datastore = AzureBlobDatastore(\n",
    "    \t\t\tname = \"blob_example\",\n",
    "    \t\t\tdescription = \"Datastore pointing to a blob container\",\n",
    "    \t\t\taccount_name = \"mytestblobstore\",\n",
    "    \t\t\tcontainer_name = \"data-container\",\n",
    "    \t\t\tcredentials = AccountKeyCredentials(\n",
    "        \t\t\taccount_key=\"XXXxxxXXXxXXXXxxXXX\"\n",
    "    \t\t\t),\n",
    ")\n",
    "ml_client.create_or_update(blob_datastore)"
   ]
  },
  {
   "attachments": {},
   "cell_type": "markdown",
   "metadata": {},
   "source": [
    "Vous pouvez également créer un magasin de données pour vous connecter à un conteneur Stockage Blob Azure à l’aide d’un jeton SAS pour vous authentifier "
   ]
  },
  {
   "cell_type": "code",
   "execution_count": null,
   "metadata": {},
   "outputs": [],
   "source": [
    "blob_datastore = AzureBlobDatastore(\n",
    "name=\"blob_sas_example\",\n",
    "description=\"Datastore pointing to a blob container\",\n",
    "account_name=\"mytestblobstore\",\n",
    "container_name=\"data-container\",\n",
    "credentials=SasTokenCredentials(\n",
    "sas_token=\"?xx=XXXX-XX-XX&xx=xxxx&xxx=xxx&xx=xxxxxxxxxxx&xx=XXXX-XX-XXXXX:XX:XXX&xx=XXXX-XX-XXXXX:XX:XXX&xxx=xxxxx&xxx=XXxXXXxxxxxXXXXXXXxXxxxXXXXXxxXXXXXxXXXXxXXXxXXxXX\"\n",
    "),\n",
    ")\n",
    "ml_client.create_or_update(blob_datastore)"
   ]
  }
 ],
 "metadata": {
  "language_info": {
   "name": "python"
  },
  "orig_nbformat": 4
 },
 "nbformat": 4,
 "nbformat_minor": 2
}
