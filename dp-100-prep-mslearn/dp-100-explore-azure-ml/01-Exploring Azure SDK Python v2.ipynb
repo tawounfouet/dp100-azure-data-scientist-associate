{
 "cells": [
  {
   "attachments": {},
   "cell_type": "markdown",
   "metadata": {},
   "source": [
    "## Provision the infrastructure with the Azure CLI\n",
    "\n",
    "For a data scientist to train a machine learning model with Azure Machine Learning, you’ll need to set up the necessary infrastructure. You can use the Azure CLI with the Azure Machine Learning extension to create an Azure Machine Learning workspace and resources like a compute instance.\n",
    "\n",
    "```bash\n",
    "# Remove any ML CLI extensions (both version 1 and 2) to avoid any conflicts with previous versions with this command:\n",
    "az extension remove -n azure-cli-ml\n",
    "az extension remove -n ml\n",
    "\n",
    "# Install the Azure Machine Learning (v2) extension with the following command\n",
    "az extension add -n ml -y\n",
    "\n",
    "\n",
    "# Create a resource group. Choose a location close to you.\n",
    "az group create --name \"rg-dp100-labs\" --location \"eastus\"\n",
    "\n",
    "# Create a workspace :\n",
    "az ml workspace create --name \"mlw-dp100-labs-v3\" -g \"rg-dp100-labs\"\n",
    "```\n",
    "\n",
    "az ml workspace diagnose --name mlw-dp100-labs-v3 --no-wait -g rg-dp100-labs"
   ]
  },
  {
   "attachments": {},
   "cell_type": "markdown",
   "metadata": {},
   "source": [
    "## Create a compute instance with the Azure CLI\n",
    "Another important part of the infrastructure needed to train a machine learning model is compute. Though you can train models locally, it’s more scalable and cost efficient to use cloud compute.\n",
    "\n",
    "When data scientists are developing a machine learning model in the Azure Machine Learning workspace, they want to use a virtual machine on which they can run Jupyter notebooks. For development, a compute instance is an ideal fit.\n",
    "\n",
    "After creating an Azure Machine Learning workspace, you can also create a compute instance using the Azure CLI.\n",
    "\n",
    "In this exercise, you’ll create a compute instance with the following settings:\n",
    "\n",
    "- `Compute name`: Name of compute instance. Has to be unique and fewer than 24 characters.\n",
    "- `Virtual machine size`: STANDARD_DS11_V2\n",
    "- `Compute type (instance or cluster)` ComputeInstance\n",
    "- Azure Machine Learning workspace name: `mlw-dp100-labs`\n",
    "- `Resource group`: rg-dp100-labs\n",
    "\n",
    "\n",
    "```bash\n",
    "az ml compute create --name \"ciXXXX\" --size STANDARD_DS11_V2 --type ComputeInstance -w mlw-dp100-labs -g rg-dp100-labs\n",
    "\n",
    "az ml compute create --name \"aml-cluster\" --size STANDARD_DS11_V2 --max-instances 2 --type AmlCompute -w mlw-dp100-labs-v3 -g rg-dp100-labs\n",
    "```\n",
    "\n",
    "\n"
   ]
  },
  {
   "attachments": {},
   "cell_type": "markdown",
   "metadata": {},
   "source": [
    "## Exploration du kit de développement logiciel (SDK) Python - V2"
   ]
  },
  {
   "cell_type": "code",
   "execution_count": 18,
   "metadata": {},
   "outputs": [],
   "source": [
    "#!pip install azure-ai-ml\n",
    "\n",
    "from azure.ai.ml import MLClient\n",
    "from azure.identity import DefaultAzureCredential\n",
    "\n",
    "subscription_id = \"721e8e8b-4456-49f5-a29c-c7c5a9b2e71e\"\n",
    "resource_group = \"rg-dp100-labs\"\n",
    "workspace_name = \"mlw-dp100-labs-v2\"\n",
    "\n",
    "\n",
    "ml_client = MLClient(\n",
    "    DefaultAzureCredential(), subscription_id, resource_group, workspace_name\n",
    ")"
   ]
  },
  {
   "attachments": {},
   "cell_type": "markdown",
   "metadata": {},
   "source": [
    "### In A Cloud Enviroment - On Linux VM\n",
    "\n",
    "Setting environnement variables :\n",
    "\n",
    "```bash\n",
    "export AZURE_SUBSCRIPTION_ID=\"721e8e8b-4456-49f5-a29c-c7c5a9b2e71e\"\n",
    "export RESOURCE_GROUP_NAME=\"rg-dp100-labs\" \n",
    "export WORKSPACE_NAME=\"mlw-dp100-labs-v2\n",
    "```\n"
   ]
  },
  {
   "cell_type": "code",
   "execution_count": null,
   "metadata": {},
   "outputs": [],
   "source": [
    "   # Default Azure Credentials attempt a chained set of authentication methods, per documentation here: https://github.com/Azure/azure-sdk-for-python/tree/main/sdk/identity/azure-identity\n",
    "   # Alternately, one can specify the AZURE_TENANT_ID, AZURE_CLIENT_ID, and AZURE_CLIENT_SECRET to use the EnvironmentCredentialClass.\n",
    "   # The docs above specify all mechanisms which the defaultCredential internally support.\n",
    "   # Enter details of your subscription\n",
    "   subscription_id = os.environ[\"AZURE_SUBSCRIPTION_ID\"]\n",
    "   resource_group = os.environ[\"RESOURCE_GROUP_NAME\"]\n",
    "\n",
    "   # Instantiate a MLClient\n",
    "   from azure.identity import AzureAuthorityHosts, DefaultAzureCredential\n",
    "\n",
    "   from azure.ai.ml import MLClient\n",
    "\n",
    "   # When using sovereign domains (that is, any cloud other than AZURE_PUBLIC_CLOUD),\n",
    "   # you must use an authority with DefaultAzureCredential.\n",
    "   # Default authority value : AzureAuthorityHosts.AZURE_PUBLIC_CLOUD\n",
    "   # Expected values for authority for sovereign clouds:\n",
    "   # AzureAuthorityHosts.AZURE_CHINA or AzureAuthorityHosts.AZURE_GOVERNMENT\n",
    "   # credential = DefaultAzureCredential(authority=AzureAuthorityHosts.AZURE_CHINA)\n",
    "   credential = DefaultAzureCredential(authority=AzureAuthorityHosts.AZURE_PUBLIC_CLOUD)\n",
    "\n",
    "   # When using sovereign domains (that is, any cloud other than AZURE_PUBLIC_CLOUD),\n",
    "   # you must pass in the cloud name in kwargs. Default cloud is AzureCloud\n",
    "   kwargs = {\"cloud\": \"AzureCloud\"}\n",
    "   # get a handle to the subscription\n",
    "   ml_client = MLClient(credential, subscription_id, resource_group, **kwargs)\n"
   ]
  }
 ],
 "metadata": {
  "kernelspec": {
   "display_name": "dp100_venv",
   "language": "python",
   "name": "python3"
  },
  "language_info": {
   "codemirror_mode": {
    "name": "ipython",
    "version": 3
   },
   "file_extension": ".py",
   "mimetype": "text/x-python",
   "name": "python",
   "nbconvert_exporter": "python",
   "pygments_lexer": "ipython3",
   "version": "3.10.12"
  },
  "orig_nbformat": 4
 },
 "nbformat": 4,
 "nbformat_minor": 2
}
