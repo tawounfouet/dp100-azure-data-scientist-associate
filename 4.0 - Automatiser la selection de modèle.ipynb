{
 "cells": [
  {
   "cell_type": "code",
   "execution_count": null,
   "metadata": {},
   "outputs": [],
   "source": []
  },
  {
   "attachments": {},
   "cell_type": "markdown",
   "metadata": {},
   "source": [
    "## Prétraiter les données et configurer la caractérisation\n",
    "\n",
    "Avant de pouvoir exécuter une expérience de Machine Learning automatisé (AutoML), vous devez préparer vos données. Lorsque vous souhaitez entraîner un modèle de classification, il vous suffit de fournir les données d’entraînement.\n",
    "\n",
    "Une fois que vous avez collecté les données, vous devez créer une ressource de données dans Azure Machine Learning. Pour qu’AutoML comprenne comment lire les données, vous devez créer une ressource de données MLTable qui inclut le schéma des données.\n",
    "\n",
    "Vous pouvez créer une ressource de données MLTable lorsque vos données sont stockées dans un dossier avec un fichier MLTable. Une fois que vous avez créé la ressource de données, vous pouvez la spécifier en tant qu’entrée avec le code suivant :\n",
    "\n"
   ]
  },
  {
   "cell_type": "code",
   "execution_count": null,
   "metadata": {},
   "outputs": [],
   "source": [
    "from azure.ai.ml.constants import AssetTypes\n",
    "from azure.ai.ml import Input\n",
    "\n",
    "my_training_data_input = Input(type=AssetTypes.MLTABLE, path=\"azureml:input-data-automl:1\")"
   ]
  },
  {
   "attachments": {},
   "cell_type": "markdown",
   "metadata": {},
   "source": [
    "## Exécuter une expérience de Machine Learning automatisé\n",
    "\n",
    "Pour exécuter une expérience de Machine Learning automatisé (AutoML), vous pouvez configurer et envoyer le travail avec le Kit SDK Python.\n",
    "\n",
    "Les algorithmes utilisés par AutoML dépendent de la tâche que vous spécifiez. Lorsque vous souhaitez entraîner un modèle de classification, AutoML choisit parmi une liste d’algorithmes de classification :\n",
    "\n",
    "- Logistic Regression\n",
    "- Light GBM (Gradient Boosting Machine)\n",
    "- Arbre de décision\n",
    "- Forêt aléatoire\n",
    "- Naive Bayes\n",
    "- Machine à vecteurs de support linéaire (SVM)\n",
    "- XGBoost\n",
    "- Et autres... : https://learn.microsoft.com/fr-fr/azure/machine-learning/how-to-configure-auto-train?view=azureml-api-2#supported-algorithms?azure-portal=true   "
   ]
  },
  {
   "attachments": {},
   "cell_type": "markdown",
   "metadata": {},
   "source": [
    "### Configurer une expérience AutoML\n",
    "Lorsque vous utilisez le Kit SDK Python (v2) pour configurer une expérience ou un travail AutoML, vous configurez l’expérience à l’aide de la classe automl. Pour la classification, vous utiliserez la fonction automl.classification comme indiqué dans l’exemple suivant :"
   ]
  },
  {
   "cell_type": "code",
   "execution_count": null,
   "metadata": {},
   "outputs": [],
   "source": [
    "from azure.ai.ml import automl\n",
    "\n",
    "# configure the classification job\n",
    "classification_job = automl.classification(\n",
    "    compute=\"aml-cluster\",\n",
    "    experiment_name=\"auto-ml-class-dev\",\n",
    "    training_data=my_training_data_input,\n",
    "    target_column_name=\"Diabetic\",\n",
    "    primary_metric=\"accuracy\",\n",
    "    n_cross_validations=5,\n",
    "    enable_model_explainability=True"
   ]
  },
  {
   "attachments": {},
   "cell_type": "markdown",
   "metadata": {},
   "source": [
    "### Spécifier la métrique principale\n",
    "L’un des paramètres les plus importants que vous devez spécifier est primary_metric. La métrique principale est la métrique de performance cible pour laquelle le modèle optimal est déterminé. Azure Machine Learning prend en charge un ensemble de métriques nommées pour chaque type de tâche.\n",
    "\n",
    "Pour récupérer la liste des métriques disponibles lorsque vous souhaitez entraîner un modèle de classification, vous pouvez utiliser la fonction ClassificationPrimaryMetrics comme illustré ici :"
   ]
  },
  {
   "cell_type": "code",
   "execution_count": null,
   "metadata": {},
   "outputs": [],
   "source": [
    "from azure.ai.ml.automl import ClassificationPrimaryMetrics\n",
    " \n",
    "list(ClassificationPrimaryMetrics)"
   ]
  },
  {
   "attachments": {},
   "cell_type": "markdown",
   "metadata": {},
   "source": [
    "### Définir les limites\n",
    "L’entraînement des modèles Machine Learning est coûteux en calcul. Pour réduire les coûts et le temps consacré à l’entraînement, vous pouvez définir des limites à une expérience ou un travail AutoML à l’aide de set_limits().\n",
    "\n",
    "Il existe plusieurs options pour définir des limites à une expérience AutoML :\n",
    "\n",
    "timeout_minutes : nombre de minutes après lesquelles l’expérience AutoML complète est terminée.\n",
    "trial_timeout_minutes : nombre maximal de minutes qu’un essai peut prendre.\n",
    "max_trials : nombre maximal d’essais ou de modèles qui seront entraînés.\n",
    "enable_early_termination : indique s’il faut mettre fin à l’expérience si le score ne s’améliore pas à court terme."
   ]
  },
  {
   "cell_type": "code",
   "execution_count": null,
   "metadata": {},
   "outputs": [],
   "source": [
    "classification_job.set_limits(\n",
    "    timeout_minutes=60, \n",
    "    trial_timeout_minutes=20, \n",
    "    max_trials=5,\n",
    "    enable_early_termination=True,\n",
    ")"
   ]
  },
  {
   "attachments": {},
   "cell_type": "markdown",
   "metadata": {},
   "source": [
    "### Soumettre un essai AutoML\n",
    "Vous pouvez soumettre un travail AutoML avec le code suivant :\n",
    "\n",
    "```Python\n",
    "# submit the AutoML job\n",
    "returned_job = ml_client.jobs.create_or_update(\n",
    "    classification_job\n",
    ") \n",
    "```\n",
    "\n",
    "Vous pouvez superviser les exécutions de travaux AutoML dans Azure Machine Learning studio. Pour obtenir un lien direct vers le travail AutoML, exécutez le code suivant :\n",
    "\n",
    "```Python\n",
    "aml_url = returned_job.studio_url\n",
    "print(\"Monitor your job at\", aml_url)\n",
    "```"
   ]
  },
  {
   "cell_type": "markdown",
   "metadata": {},
   "source": []
  }
 ],
 "metadata": {
  "language_info": {
   "name": "python"
  },
  "orig_nbformat": 4
 },
 "nbformat": 4,
 "nbformat_minor": 2
}
